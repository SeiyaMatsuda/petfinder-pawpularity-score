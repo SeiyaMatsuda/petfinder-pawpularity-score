{
 "cells": [
  {
   "cell_type": "code",
   "execution_count": 2,
   "id": "f840c122",
   "metadata": {},
   "outputs": [],
   "source": [
    "import pandas as pd\n",
    "from sklearn.linear_model import LinearRegression\n",
    "import numpy as np"
   ]
  },
  {
   "cell_type": "code",
   "execution_count": 16,
   "id": "a8c8df90",
   "metadata": {},
   "outputs": [],
   "source": [
    "df_list = []\n",
    "for i in [14, 15,18,23,28,30, 31]:\n",
    "    df_list.append(pd.read_csv(f\"../output/{i}/oof_df.csv\"))\n",
    "basic_df= df_list[0].loc[:, [\"Id\", \"Pawpularity\", \"fold\"]]\n",
    "df_list = list(map(lambda x:x.loc[:,\"preds\"], df_list))"
   ]
  },
  {
   "cell_type": "code",
   "execution_count": 17,
   "id": "4ca3e4db",
   "metadata": {},
   "outputs": [
    {
     "data": {
      "text/html": [
       "<div>\n",
       "<style scoped>\n",
       "    .dataframe tbody tr th:only-of-type {\n",
       "        vertical-align: middle;\n",
       "    }\n",
       "\n",
       "    .dataframe tbody tr th {\n",
       "        vertical-align: top;\n",
       "    }\n",
       "\n",
       "    .dataframe thead th {\n",
       "        text-align: right;\n",
       "    }\n",
       "</style>\n",
       "<table border=\"1\" class=\"dataframe\">\n",
       "  <thead>\n",
       "    <tr style=\"text-align: right;\">\n",
       "      <th></th>\n",
       "      <th>Id</th>\n",
       "      <th>Pawpularity</th>\n",
       "      <th>fold</th>\n",
       "      <th>preds</th>\n",
       "      <th>preds</th>\n",
       "      <th>preds</th>\n",
       "      <th>preds</th>\n",
       "      <th>preds</th>\n",
       "      <th>preds</th>\n",
       "      <th>preds</th>\n",
       "    </tr>\n",
       "  </thead>\n",
       "  <tbody>\n",
       "    <tr>\n",
       "      <th>0</th>\n",
       "      <td>0031d6a9ef7340f898c3e05f92c7bb04</td>\n",
       "      <td>35</td>\n",
       "      <td>0</td>\n",
       "      <td>45.136406</td>\n",
       "      <td>38.146786</td>\n",
       "      <td>38.470844</td>\n",
       "      <td>42.552150</td>\n",
       "      <td>35.648610</td>\n",
       "      <td>41.240234</td>\n",
       "      <td>43.293716</td>\n",
       "    </tr>\n",
       "    <tr>\n",
       "      <th>1</th>\n",
       "      <td>0042bc5bada6d1cf8951f8f9f0d399fa</td>\n",
       "      <td>53</td>\n",
       "      <td>0</td>\n",
       "      <td>59.318428</td>\n",
       "      <td>56.171696</td>\n",
       "      <td>57.961920</td>\n",
       "      <td>56.609673</td>\n",
       "      <td>43.608013</td>\n",
       "      <td>54.898148</td>\n",
       "      <td>54.999744</td>\n",
       "    </tr>\n",
       "    <tr>\n",
       "      <th>2</th>\n",
       "      <td>00655425c10d4c082dd7eeb97fa4fb17</td>\n",
       "      <td>13</td>\n",
       "      <td>0</td>\n",
       "      <td>23.322584</td>\n",
       "      <td>26.374268</td>\n",
       "      <td>29.012499</td>\n",
       "      <td>25.336117</td>\n",
       "      <td>24.612621</td>\n",
       "      <td>28.339142</td>\n",
       "      <td>23.610350</td>\n",
       "    </tr>\n",
       "    <tr>\n",
       "      <th>3</th>\n",
       "      <td>0067aaaa500b530c76b9c91af34b4cb8</td>\n",
       "      <td>98</td>\n",
       "      <td>0</td>\n",
       "      <td>71.188170</td>\n",
       "      <td>69.635570</td>\n",
       "      <td>68.687096</td>\n",
       "      <td>74.973880</td>\n",
       "      <td>64.288480</td>\n",
       "      <td>70.338930</td>\n",
       "      <td>68.767494</td>\n",
       "    </tr>\n",
       "    <tr>\n",
       "      <th>4</th>\n",
       "      <td>006fe962f5f7e2c5f527b2e27e28ed6d</td>\n",
       "      <td>69</td>\n",
       "      <td>0</td>\n",
       "      <td>51.895363</td>\n",
       "      <td>58.869343</td>\n",
       "      <td>42.906060</td>\n",
       "      <td>55.458294</td>\n",
       "      <td>55.906670</td>\n",
       "      <td>50.743440</td>\n",
       "      <td>50.293070</td>\n",
       "    </tr>\n",
       "  </tbody>\n",
       "</table>\n",
       "</div>"
      ],
      "text/plain": [
       "                                 Id  Pawpularity  fold      preds      preds  \\\n",
       "0  0031d6a9ef7340f898c3e05f92c7bb04           35     0  45.136406  38.146786   \n",
       "1  0042bc5bada6d1cf8951f8f9f0d399fa           53     0  59.318428  56.171696   \n",
       "2  00655425c10d4c082dd7eeb97fa4fb17           13     0  23.322584  26.374268   \n",
       "3  0067aaaa500b530c76b9c91af34b4cb8           98     0  71.188170  69.635570   \n",
       "4  006fe962f5f7e2c5f527b2e27e28ed6d           69     0  51.895363  58.869343   \n",
       "\n",
       "       preds      preds      preds      preds      preds  \n",
       "0  38.470844  42.552150  35.648610  41.240234  43.293716  \n",
       "1  57.961920  56.609673  43.608013  54.898148  54.999744  \n",
       "2  29.012499  25.336117  24.612621  28.339142  23.610350  \n",
       "3  68.687096  74.973880  64.288480  70.338930  68.767494  \n",
       "4  42.906060  55.458294  55.906670  50.743440  50.293070  "
      ]
     },
     "execution_count": 17,
     "metadata": {},
     "output_type": "execute_result"
    }
   ],
   "source": [
    "df = pd.concat(df_list, axis=1)\n",
    "df = pd.concat([basic_df, df], axis=1)\n",
    "df.head()"
   ]
  },
  {
   "cell_type": "code",
   "execution_count": 18,
   "id": "5d6ce298",
   "metadata": {},
   "outputs": [
    {
     "name": "stdout",
     "output_type": "stream",
     "text": [
      "fold0:17.34119708509924\n",
      "fold1:17.405549812605972\n",
      "fold2:17.406202127064486\n",
      "fold3:17.427009398169357\n",
      "fold4:17.299738299240925\n",
      "CV:17.375939344436\n"
     ]
    }
   ],
   "source": [
    "from sklearn.linear_model import Ridge\n",
    "CV_score=[]\n",
    "preds = []\n",
    "def postprocess(\n",
    "    pred,\n",
    "    target_dist,alpha = 0.2\n",
    ") -> pd.Series:\n",
    "    \"\"\"検証フェーズ\n",
    "    与えられたモデル・データローダを\n",
    "    使って検証フェーズを実行。スコアの dict と予測した値を返す\n",
    "    \"\"\"\n",
    "    target_dist = pd.cut(target_dist, list(range(0,105, 5)), labels=False)\n",
    "    target_dist = target_dist.value_counts(normalize=True).sort_index()\n",
    "    sorted_index = np.argsort(pred)\n",
    "    sample_num = len(pred)\n",
    "    pred_n = pred.copy()\n",
    "    ratio = 0\n",
    "    for idx,d in enumerate(target_dist.values):\n",
    "        pred_n[sorted_index[int(ratio*sample_num):int((ratio+d)*sample_num)]] = idx * 5\n",
    "        ratio += d\n",
    "    pred_n[sorted_index[-1]] = 100\n",
    "    pred = pred_n * alpha + pred * (1-alpha)\n",
    "    print(pred_n)\n",
    "    return pred\n",
    "\n",
    "for fold in range(5):\n",
    "    df_=df.drop(columns=[\"Id\"])\n",
    "    tr_x, tr_y = df_[df_.fold!=fold].drop(columns=[\"Pawpularity\", \"fold\"]), df_[df_.fold!=fold].Pawpularity\n",
    "    val_x, val_y =  df_[df_.fold==fold].drop(columns=[\"Pawpularity\", \"fold\"]), df_[df_.fold==fold].Pawpularity\n",
    "    lr = LinearRegression()\n",
    "    lr.fit(tr_x, tr_y)\n",
    "    pred = lr.predict(val_x)\n",
    "    preds.append(pred)\n",
    "    score = np.sqrt(np.mean((np.array(pred)- np.array(val_y))**2))\n",
    "    CV_score.append(score)\n",
    "    \n",
    "    print(f\"fold{fold}:{score}\")\n",
    "print(f\"CV:{sum(CV_score)/len(CV_score)}\")\n",
    "df['final_pred']=np.concatenate(preds)"
   ]
  },
  {
   "cell_type": "code",
   "execution_count": 128,
   "id": "3e112f91",
   "metadata": {},
   "outputs": [
    {
     "data": {
      "text/plain": [
       "Text(114.0, 0.5, 'Pawpularity_bin')"
      ]
     },
     "execution_count": 128,
     "metadata": {},
     "output_type": "execute_result"
    },
    {
     "data": {
      "image/png": "[encoded data removed]",
      "text/plain": [
       "<Figure size 1080x1080 with 2 Axes>"
      ]
     },
     "metadata": {
      "needs_background": "light"
     },
     "output_type": "display_data"
    }
   ],
   "source": [
    "from sklearn.metrics import confusion_matrix\n",
    "import matplotlib.pyplot as plt\n",
    "import seaborn as sns\n",
    "df[\"Pawpularity_bin\"] = pd.cut(df[\"Pawpularity\"], list(range(0,110, 10)), labels=False)\n",
    "df[\"final_pred_bin\"] = pd.cut(df[\"final_pred\"], list(range(0,110, 10)), labels=False)\n",
    "cm = confusion_matrix(df[\"Pawpularity_bin\"], df['final_pred_bin'])\n",
    "plt.figure(figsize=(15,15))\n",
    "sns.heatmap(cm, square=True, cbar=True, annot=True, cmap='Blues')\n",
    "plt.xlabel(\"final_pred_bin\", fontsize=13)\n",
    "plt.ylabel(\"Pawpularity_bin\", fontsize=13)\n",
    "# sns.scatterplot(df[\"Pawpularity\"][:100], df['final_pred'][:100])"
   ]
  },
  {
   "cell_type": "code",
   "execution_count": 96,
   "id": "f675af34",
   "metadata": {},
   "outputs": [
    {
     "data": {
      "text/html": [
       "<div>\n",
       "<style scoped>\n",
       "    .dataframe tbody tr th:only-of-type {\n",
       "        vertical-align: middle;\n",
       "    }\n",
       "\n",
       "    .dataframe tbody tr th {\n",
       "        vertical-align: top;\n",
       "    }\n",
       "\n",
       "    .dataframe thead th {\n",
       "        text-align: right;\n",
       "    }\n",
       "</style>\n",
       "<table border=\"1\" class=\"dataframe\">\n",
       "  <thead>\n",
       "    <tr style=\"text-align: right;\">\n",
       "      <th></th>\n",
       "      <th>Id</th>\n",
       "      <th>Pawpularity</th>\n",
       "      <th>fold</th>\n",
       "      <th>preds</th>\n",
       "      <th>preds</th>\n",
       "      <th>preds</th>\n",
       "      <th>preds</th>\n",
       "      <th>preds</th>\n",
       "      <th>preds</th>\n",
       "      <th>preds</th>\n",
       "      <th>preds</th>\n",
       "      <th>final_pred</th>\n",
       "      <th>Pawpularity_bin</th>\n",
       "      <th>final_pred_bin</th>\n",
       "    </tr>\n",
       "  </thead>\n",
       "  <tbody>\n",
       "    <tr>\n",
       "      <th>0</th>\n",
       "      <td>0031d6a9ef7340f898c3e05f92c7bb04</td>\n",
       "      <td>35</td>\n",
       "      <td>0</td>\n",
       "      <td>45.136406</td>\n",
       "      <td>38.146786</td>\n",
       "      <td>38.470844</td>\n",
       "      <td>42.552150</td>\n",
       "      <td>35.648610</td>\n",
       "      <td>41.240234</td>\n",
       "      <td>43.293716</td>\n",
       "      <td>40.605850</td>\n",
       "      <td>41.113540</td>\n",
       "      <td>3</td>\n",
       "      <td>4</td>\n",
       "    </tr>\n",
       "    <tr>\n",
       "      <th>1</th>\n",
       "      <td>0042bc5bada6d1cf8951f8f9f0d399fa</td>\n",
       "      <td>53</td>\n",
       "      <td>0</td>\n",
       "      <td>59.318428</td>\n",
       "      <td>56.171696</td>\n",
       "      <td>57.961920</td>\n",
       "      <td>56.609673</td>\n",
       "      <td>43.608013</td>\n",
       "      <td>54.898148</td>\n",
       "      <td>54.999744</td>\n",
       "      <td>52.569496</td>\n",
       "      <td>57.425867</td>\n",
       "      <td>5</td>\n",
       "      <td>5</td>\n",
       "    </tr>\n",
       "    <tr>\n",
       "      <th>2</th>\n",
       "      <td>00655425c10d4c082dd7eeb97fa4fb17</td>\n",
       "      <td>13</td>\n",
       "      <td>0</td>\n",
       "      <td>23.322584</td>\n",
       "      <td>26.374268</td>\n",
       "      <td>29.012499</td>\n",
       "      <td>25.336117</td>\n",
       "      <td>24.612621</td>\n",
       "      <td>28.339142</td>\n",
       "      <td>23.610350</td>\n",
       "      <td>22.784788</td>\n",
       "      <td>25.161877</td>\n",
       "      <td>1</td>\n",
       "      <td>2</td>\n",
       "    </tr>\n",
       "    <tr>\n",
       "      <th>3</th>\n",
       "      <td>0067aaaa500b530c76b9c91af34b4cb8</td>\n",
       "      <td>98</td>\n",
       "      <td>0</td>\n",
       "      <td>71.188170</td>\n",
       "      <td>69.635570</td>\n",
       "      <td>68.687096</td>\n",
       "      <td>74.973880</td>\n",
       "      <td>64.288480</td>\n",
       "      <td>70.338930</td>\n",
       "      <td>68.767494</td>\n",
       "      <td>68.141235</td>\n",
       "      <td>73.932940</td>\n",
       "      <td>9</td>\n",
       "      <td>7</td>\n",
       "    </tr>\n",
       "    <tr>\n",
       "      <th>4</th>\n",
       "      <td>006fe962f5f7e2c5f527b2e27e28ed6d</td>\n",
       "      <td>69</td>\n",
       "      <td>0</td>\n",
       "      <td>51.895363</td>\n",
       "      <td>58.869343</td>\n",
       "      <td>42.906060</td>\n",
       "      <td>55.458294</td>\n",
       "      <td>55.906670</td>\n",
       "      <td>50.743440</td>\n",
       "      <td>50.293070</td>\n",
       "      <td>52.180855</td>\n",
       "      <td>53.856146</td>\n",
       "      <td>6</td>\n",
       "      <td>5</td>\n",
       "    </tr>\n",
       "    <tr>\n",
       "      <th>...</th>\n",
       "      <td>...</td>\n",
       "      <td>...</td>\n",
       "      <td>...</td>\n",
       "      <td>...</td>\n",
       "      <td>...</td>\n",
       "      <td>...</td>\n",
       "      <td>...</td>\n",
       "      <td>...</td>\n",
       "      <td>...</td>\n",
       "      <td>...</td>\n",
       "      <td>...</td>\n",
       "      <td>...</td>\n",
       "      <td>...</td>\n",
       "      <td>...</td>\n",
       "    </tr>\n",
       "    <tr>\n",
       "      <th>9907</th>\n",
       "      <td>ff08dcc0387d193a21c1c50635030a06</td>\n",
       "      <td>73</td>\n",
       "      <td>4</td>\n",
       "      <td>51.351578</td>\n",
       "      <td>60.385620</td>\n",
       "      <td>47.346240</td>\n",
       "      <td>50.533314</td>\n",
       "      <td>54.253025</td>\n",
       "      <td>48.195090</td>\n",
       "      <td>52.539074</td>\n",
       "      <td>64.148940</td>\n",
       "      <td>54.555511</td>\n",
       "      <td>7</td>\n",
       "      <td>5</td>\n",
       "    </tr>\n",
       "    <tr>\n",
       "      <th>9908</th>\n",
       "      <td>ff6123b262da1a561197a5a25c212964</td>\n",
       "      <td>23</td>\n",
       "      <td>4</td>\n",
       "      <td>36.620070</td>\n",
       "      <td>38.751200</td>\n",
       "      <td>32.549183</td>\n",
       "      <td>34.114983</td>\n",
       "      <td>39.146960</td>\n",
       "      <td>39.288372</td>\n",
       "      <td>31.356407</td>\n",
       "      <td>32.963516</td>\n",
       "      <td>35.725590</td>\n",
       "      <td>2</td>\n",
       "      <td>3</td>\n",
       "    </tr>\n",
       "    <tr>\n",
       "      <th>9909</th>\n",
       "      <td>ff6591fb1b3481fe0c366dfdcdc8ab5f</td>\n",
       "      <td>30</td>\n",
       "      <td>4</td>\n",
       "      <td>26.409695</td>\n",
       "      <td>28.562153</td>\n",
       "      <td>25.879120</td>\n",
       "      <td>25.021795</td>\n",
       "      <td>37.060654</td>\n",
       "      <td>31.064170</td>\n",
       "      <td>29.788204</td>\n",
       "      <td>26.616627</td>\n",
       "      <td>28.828236</td>\n",
       "      <td>2</td>\n",
       "      <td>2</td>\n",
       "    </tr>\n",
       "    <tr>\n",
       "      <th>9910</th>\n",
       "      <td>ffdf2e8673a1da6fb80342fa3b119a20</td>\n",
       "      <td>20</td>\n",
       "      <td>4</td>\n",
       "      <td>22.250675</td>\n",
       "      <td>28.532127</td>\n",
       "      <td>22.281046</td>\n",
       "      <td>30.507820</td>\n",
       "      <td>28.927448</td>\n",
       "      <td>30.745052</td>\n",
       "      <td>21.860685</td>\n",
       "      <td>24.796055</td>\n",
       "      <td>24.862399</td>\n",
       "      <td>1</td>\n",
       "      <td>2</td>\n",
       "    </tr>\n",
       "    <tr>\n",
       "      <th>9911</th>\n",
       "      <td>fff19e2ce11718548fa1c5d039a5192a</td>\n",
       "      <td>20</td>\n",
       "      <td>4</td>\n",
       "      <td>38.894505</td>\n",
       "      <td>44.462757</td>\n",
       "      <td>37.959700</td>\n",
       "      <td>43.933903</td>\n",
       "      <td>43.851074</td>\n",
       "      <td>42.121784</td>\n",
       "      <td>40.588060</td>\n",
       "      <td>48.468624</td>\n",
       "      <td>42.859998</td>\n",
       "      <td>1</td>\n",
       "      <td>4</td>\n",
       "    </tr>\n",
       "  </tbody>\n",
       "</table>\n",
       "<p>9912 rows × 14 columns</p>\n",
       "</div>"
      ],
      "text/plain": [
       "                                    Id  Pawpularity  fold      preds  \\\n",
       "0     0031d6a9ef7340f898c3e05f92c7bb04           35     0  45.136406   \n",
       "1     0042bc5bada6d1cf8951f8f9f0d399fa           53     0  59.318428   \n",
       "2     00655425c10d4c082dd7eeb97fa4fb17           13     0  23.322584   \n",
       "3     0067aaaa500b530c76b9c91af34b4cb8           98     0  71.188170   \n",
       "4     006fe962f5f7e2c5f527b2e27e28ed6d           69     0  51.895363   \n",
       "...                                ...          ...   ...        ...   \n",
       "9907  ff08dcc0387d193a21c1c50635030a06           73     4  51.351578   \n",
       "9908  ff6123b262da1a561197a5a25c212964           23     4  36.620070   \n",
       "9909  ff6591fb1b3481fe0c366dfdcdc8ab5f           30     4  26.409695   \n",
       "9910  ffdf2e8673a1da6fb80342fa3b119a20           20     4  22.250675   \n",
       "9911  fff19e2ce11718548fa1c5d039a5192a           20     4  38.894505   \n",
       "\n",
       "          preds      preds      preds      preds      preds      preds  \\\n",
       "0     38.146786  38.470844  42.552150  35.648610  41.240234  43.293716   \n",
       "1     56.171696  57.961920  56.609673  43.608013  54.898148  54.999744   \n",
       "2     26.374268  29.012499  25.336117  24.612621  28.339142  23.610350   \n",
       "3     69.635570  68.687096  74.973880  64.288480  70.338930  68.767494   \n",
       "4     58.869343  42.906060  55.458294  55.906670  50.743440  50.293070   \n",
       "...         ...        ...        ...        ...        ...        ...   \n",
       "9907  60.385620  47.346240  50.533314  54.253025  48.195090  52.539074   \n",
       "9908  38.751200  32.549183  34.114983  39.146960  39.288372  31.356407   \n",
       "9909  28.562153  25.879120  25.021795  37.060654  31.064170  29.788204   \n",
       "9910  28.532127  22.281046  30.507820  28.927448  30.745052  21.860685   \n",
       "9911  44.462757  37.959700  43.933903  43.851074  42.121784  40.588060   \n",
       "\n",
       "          preds  final_pred  Pawpularity_bin  final_pred_bin  \n",
       "0     40.605850   41.113540                3               4  \n",
       "1     52.569496   57.425867                5               5  \n",
       "2     22.784788   25.161877                1               2  \n",
       "3     68.141235   73.932940                9               7  \n",
       "4     52.180855   53.856146                6               5  \n",
       "...         ...         ...              ...             ...  \n",
       "9907  64.148940   54.555511                7               5  \n",
       "9908  32.963516   35.725590                2               3  \n",
       "9909  26.616627   28.828236                2               2  \n",
       "9910  24.796055   24.862399                1               2  \n",
       "9911  48.468624   42.859998                1               4  \n",
       "\n",
       "[9912 rows x 14 columns]"
      ]
     },
     "execution_count": 96,
     "metadata": {},
     "output_type": "execute_result"
    }
   ],
   "source": [
    "df"
   ]
  },
  {
   "cell_type": "code",
   "execution_count": 72,
   "id": "575fa3f7",
   "metadata": {},
   "outputs": [
    {
     "data": {
      "text/plain": [
       "11.198548796678974"
      ]
     },
     "execution_count": 72,
     "metadata": {},
     "output_type": "execute_result"
    }
   ],
   "source": [
    "df.final_pred.std()"
   ]
  },
  {
   "cell_type": "code",
   "execution_count": 73,
   "id": "94ae55c1",
   "metadata": {},
   "outputs": [
    {
     "data": {
      "image/png": "[encoded data removed]",
      "text/plain": [
       "<Figure size 720x720 with 16 Axes>"
      ]
     },
     "metadata": {
      "needs_background": "light"
     },
     "output_type": "display_data"
    }
   ],
   "source": [
    "from pylab import rcParams\n",
    "rcParams['figure.figsize'] = 10, 10\n",
    "df.preds.hist()\n",
    "plt.tight_layout()\n",
    "plt.show() "
   ]
  },
  {
   "cell_type": "code",
   "execution_count": 74,
   "id": "96bb3515",
   "metadata": {},
   "outputs": [
    {
     "data": {
      "text/plain": [
       "<AxesSubplot:>"
      ]
     },
     "execution_count": 74,
     "metadata": {},
     "output_type": "execute_result"
    },
    {
     "data": {
      "image/png": "[encoded data removed]",
      "text/plain": [
       "<Figure size 720x720 with 1 Axes>"
      ]
     },
     "metadata": {
      "needs_background": "light"
     },
     "output_type": "display_data"
    }
   ],
   "source": [
    "df.final_pred.hist(range=(0,100)) "
   ]
  },
  {
   "cell_type": "code",
   "execution_count": 75,
   "id": "82edf300",
   "metadata": {},
   "outputs": [
    {
     "data": {
      "text/plain": [
       "<AxesSubplot:>"
      ]
     },
     "execution_count": 75,
     "metadata": {},
     "output_type": "execute_result"
    },
    {
     "data": {
      "image/png": "[encoded data removed]",
      "text/plain": [
       "<Figure size 720x720 with 1 Axes>"
      ]
     },
     "metadata": {
      "needs_background": "light"
     },
     "output_type": "display_data"
    }
   ],
   "source": [
    "df.Pawpularity.hist(range=(0,100)) "
   ]
  },
  {
   "cell_type": "code",
   "execution_count": null,
   "id": "6804fc57",
   "metadata": {},
   "outputs": [],
   "source": [
    "alpha * pred + (1-alpha) * pred"
   ]
  }
 ],
 "metadata": {
  "kernelspec": {
   "display_name": "Python 3 (ipykernel)",
   "language": "python",
   "name": "python3"
  },
  "language_info": {
   "codemirror_mode": {
    "name": "ipython",
    "version": 3
   },
   "file_extension": ".py",
   "mimetype": "text/x-python",
   "name": "python",
   "nbconvert_exporter": "python",
   "pygments_lexer": "ipython3",
   "version": "3.7.10"
  }
 },
 "nbformat": 4,
 "nbformat_minor": 5
}
