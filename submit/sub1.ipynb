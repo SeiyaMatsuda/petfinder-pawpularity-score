{
 "cells": [
  {
   "cell_type": "code",
   "execution_count": 16,
   "id": "4838de5c",
   "metadata": {},
   "outputs": [],
   "source": [
    "# # based on the post here: https://www.kaggle.com/c/petfinder-pawpularity-score/discussion/275094\n",
    "\n",
    "import sys\n",
    "sys.path.append(\"../\")\n",
    "# sys.path.append(\"../input/tez-lib/\")\n",
    "# sys.path.append(\"../input/timmmaster/\")\n",
    "# sys.path.append(\"../input/matsuda-utils\")"
   ]
  },
  {
   "cell_type": "code",
   "execution_count": 17,
   "id": "e180e65a",
   "metadata": {},
   "outputs": [],
   "source": [
    "import numpy as np, pandas as pd\n",
    "from glob import glob\n",
    "import shutil, os\n",
    "import pickle\n",
    "import matplotlib.pyplot as plt\n",
    "from sklearn.model_selection import GroupKFold\n",
    "from sklearn.decomposition import IncrementalPCA\n",
    "from tqdm.notebook import tqdm\n",
    "import seaborn as sns\n",
    "import PIL.Image as Image\n",
    "import torch\n",
    "from torch.utils.data import Dataset, DataLoader\n",
    "import cv2\n",
    "import time\n",
    "import pandas_profiling as pdp\n",
    "from pathlib import Path\n",
    "from sklearn.model_selection import StratifiedKFold\n",
    "from utils.util import *\n",
    "from utils.losses import *\n",
    "import torch.nn as nn\n",
    "import transformers as T\n",
    "import albumentations\n",
    "import pandas as pd\n",
    "import cv2\n",
    "import numpy as np\n",
    "import timm\n",
    "import torch.nn as nn\n",
    "from sklearn import metrics\n",
    "import torch\n",
    "from tez.callbacks import EarlyStopping\n",
    "from tqdm import tqdm\n",
    "from collections import OrderedDict\n",
    "import math\n",
    "import tez\n",
    "import torch.optim as optim"
   ]
  },
  {
   "cell_type": "code",
   "execution_count": 26,
   "id": "477d4e15",
   "metadata": {},
   "outputs": [],
   "source": [
    "class CONFIG:\n",
    "    DATA_PATH = Path('../input/petfinder-pawpularity-score')\n",
    "    MODEL_NAME = 'resnet50'\n",
    "    MODEL_PATH = Path(f'../input/pretrained_models/models/{MODEL_NAME}')\n",
    "    batch_size = 16\n",
    "    image_size = 224\n",
    "    fold = 5\n",
    "    device='cuda'\n",
    "    pretrained=False"
   ]
  },
  {
   "cell_type": "code",
   "execution_count": 27,
   "id": "38f61ae4",
   "metadata": {},
   "outputs": [],
   "source": [
    "test_df = pd.read_csv(CONFIG.DATA_PATH / 'test.csv')\n",
    "test_df['path'] = test_df['Id'].map(lambda x:str(CONFIG.DATA_PATH/'test'/x)+'.jpg')\n",
    "test_df['image_size'] = test_df['path'].apply(lambda image_id : Image.open(image_id).size)\n",
    "test_df['width'] = test_df['image_size'].apply(lambda x: x[0])\n",
    "test_df['height'] = test_df['image_size'].apply(lambda x: x[1])"
   ]
  },
  {
   "cell_type": "code",
   "execution_count": 28,
   "id": "08776cb4",
   "metadata": {},
   "outputs": [],
   "source": [
    "test_aug = albumentations.Compose(\n",
    "    [\n",
    "        albumentations.Resize(CONFIG.image_size, CONFIG.image_size, p=1),\n",
    "        albumentations.Normalize(\n",
    "            mean=[0.485, 0.456, 0.406],\n",
    "            std=[0.229, 0.224, 0.225],\n",
    "            max_pixel_value=255.0,\n",
    "            p=1.0,\n",
    "        ),\n",
    "    ],\n",
    "    p=1.0,\n",
    ")"
   ]
  },
  {
   "cell_type": "code",
   "execution_count": 29,
   "id": "ba686084",
   "metadata": {},
   "outputs": [],
   "source": [
    "class PawpularDataset:\n",
    "    def __init__(self, df, dense_features, targets, augmentations):\n",
    "        self.image_paths = df['path'].tolist()\n",
    "        self.dense_features = dense_features\n",
    "        self.targets = targets\n",
    "        if self.targets is None:\n",
    "            self.targets = torch.ones(len(self.image_paths))\n",
    "        self.augmentations = augmentations\n",
    "        \n",
    "    def __len__(self):\n",
    "        return len(self.image_paths)\n",
    "    \n",
    "    def __getitem__(self, item):\n",
    "        image = cv2.imread(self.image_paths[item])\n",
    "        image = cv2.cvtColor(image, cv2.COLOR_BGR2RGB)\n",
    "        \n",
    "        if self.augmentations is not None:\n",
    "            augmented = self.augmentations(image=image)\n",
    "            image = augmented[\"image\"]\n",
    "        targets = self.targets[item]\n",
    "        image = np.transpose(image, (2, 0, 1)).astype(np.float32)\n",
    "        \n",
    "        features = self.dense_features[item, :]\n",
    "        \n",
    "        return {\n",
    "            \"image\": torch.tensor(image, dtype=torch.float),\n",
    "            \"features\": torch.tensor(features, dtype=torch.float),\n",
    "            \"targets\": torch.tensor(targets, dtype=torch.float)\n",
    "        }"
   ]
  },
  {
   "cell_type": "code",
   "execution_count": 30,
   "id": "74d5359e",
   "metadata": {},
   "outputs": [],
   "source": [
    "class PawpularModel(nn.Module):\n",
    "    def __init__(self, model_name):\n",
    "        super().__init__()\n",
    "        self.model = timm.create_model(model_name, pretrained=CONFIG.pretrained, in_chans=3)\n",
    "        self.model.fc = nn.Linear(self.model.fc.in_features, 128)\n",
    "        self.dropout = nn.Dropout(0.1)\n",
    "        self.dense1 = nn.Linear(140, 64)\n",
    "        self.dense2 = nn.Linear(64, 1)\n",
    "\n",
    "    def forward(self, image, features):\n",
    "        x = self.model(image)\n",
    "        x = self.dropout(x)\n",
    "        x = torch.cat([x, features], dim=1)\n",
    "        x = self.dense1(x)\n",
    "        x = self.dense2(x)\n",
    "        return torch.sigmoid(x.squeeze(1))"
   ]
  },
  {
   "cell_type": "code",
   "execution_count": 31,
   "id": "f658eada",
   "metadata": {},
   "outputs": [],
   "source": [
    "def inference():\n",
    "    predictions = []\n",
    "    dense_features = [\n",
    "        'Subject Focus', 'Eyes', 'Face', 'Near', 'Action', 'Accessory',\n",
    "        'Group', 'Collage', 'Human', 'Occlusion', 'Info', 'Blur'\n",
    "    ]\n",
    "    test_dataset = PawpularDataset(\n",
    "        test_df, \n",
    "        dense_features=test_df[dense_features].values, targets=None,\n",
    "        augmentations=test_aug,\n",
    "    )\n",
    "    test_loader = DataLoader(\n",
    "        test_dataset, batch_size=16, shuffle=False, num_workers=4, pin_memory=True\n",
    "    )\n",
    "\n",
    "    for fold in range(5):\n",
    "        model = PawpularModel(model_name=CONFIG.MODEL_NAME)\n",
    "        model.to(CONFIG.device)\n",
    "        if torch.cuda.device_count()>1:\n",
    "            model=nn.DataParallel(model)\n",
    "            model.load_state_dict(torch.load(CONFIG.MODEL_PATH / f\"{CONFIG.MODEL_NAME}_{fold}_best.pth\")[\"model\"])\n",
    "        else:\n",
    "            model.load_state_dict(fix_model_state_dict(torch.load(CONFIG.MODEL_PATH / f\"{CONFIG.MODEL_NAME}_{fold}_best.pth\")[\"model\"]))\n",
    "        model.eval()\n",
    "        preds = []\n",
    "        for i, data in tqdm(enumerate(test_loader), total=len(test_loader)):\n",
    "            img, feature ,target = data['image'], data['features'], data['targets']\n",
    "            img = img.to(CONFIG.device)\n",
    "            feature = feature.to(CONFIG.device)\n",
    "            target = target.to(CONFIG.device)\n",
    "            with torch.no_grad():\n",
    "                y_preds = model(img, feature)\n",
    "            preds.append(y_preds.to(\"cpu\").numpy())\n",
    "        preds = np.concatenate(preds)\n",
    "        predictions.append(preds)\n",
    "    predictions = np.mean(predictions, axis=0)\n",
    "    return predictions * 100"
   ]
  },
  {
   "cell_type": "code",
   "execution_count": 32,
   "id": "0a222efe",
   "metadata": {},
   "outputs": [],
   "source": [
    "def main():\n",
    "    # Inference\n",
    "    predictions = inference()\n",
    "    # submission\n",
    "    submission = test_df.copy()\n",
    "    submission[\"Pawpularity\"] = predictions\n",
    "    submission = submission[[\"Id\", \"Pawpularity\"]]\n",
    "    submission.to_csv(\"submission.csv\", index=False)"
   ]
  },
  {
   "cell_type": "code",
   "execution_count": 33,
   "id": "f538c3e5",
   "metadata": {},
   "outputs": [
    {
     "name": "stderr",
     "output_type": "stream",
     "text": [
      "  0%|                                                                                                      | 0/1 [00:00<?, ?it/s]/opt/conda/lib/python3.7/site-packages/ipykernel_launcher.py:28: UserWarning: To copy construct from a tensor, it is recommended to use sourceTensor.clone().detach() or sourceTensor.clone().detach().requires_grad_(True), rather than torch.tensor(sourceTensor).\n",
      "100%|██████████████████████████████████████████████████████████████████████████████████████████████| 1/1 [00:01<00:00,  1.92s/it]\n",
      "  0%|                                                                                                      | 0/1 [00:00<?, ?it/s]/opt/conda/lib/python3.7/site-packages/ipykernel_launcher.py:28: UserWarning: To copy construct from a tensor, it is recommended to use sourceTensor.clone().detach() or sourceTensor.clone().detach().requires_grad_(True), rather than torch.tensor(sourceTensor).\n",
      "100%|██████████████████████████████████████████████████████████████████████████████████████████████| 1/1 [00:00<00:00, 11.46it/s]\n",
      "  0%|                                                                                                      | 0/1 [00:00<?, ?it/s]/opt/conda/lib/python3.7/site-packages/ipykernel_launcher.py:28: UserWarning: To copy construct from a tensor, it is recommended to use sourceTensor.clone().detach() or sourceTensor.clone().detach().requires_grad_(True), rather than torch.tensor(sourceTensor).\n",
      "100%|██████████████████████████████████████████████████████████████████████████████████████████████| 1/1 [00:00<00:00, 11.40it/s]\n",
      "  0%|                                                                                                      | 0/1 [00:00<?, ?it/s]/opt/conda/lib/python3.7/site-packages/ipykernel_launcher.py:28: UserWarning: To copy construct from a tensor, it is recommended to use sourceTensor.clone().detach() or sourceTensor.clone().detach().requires_grad_(True), rather than torch.tensor(sourceTensor).\n",
      "100%|██████████████████████████████████████████████████████████████████████████████████████████████| 1/1 [00:00<00:00, 11.81it/s]\n",
      "  0%|                                                                                                      | 0/1 [00:00<?, ?it/s]/opt/conda/lib/python3.7/site-packages/ipykernel_launcher.py:28: UserWarning: To copy construct from a tensor, it is recommended to use sourceTensor.clone().detach() or sourceTensor.clone().detach().requires_grad_(True), rather than torch.tensor(sourceTensor).\n",
      "100%|██████████████████████████████████████████████████████████████████████████████████████████████| 1/1 [00:00<00:00, 11.39it/s]\n"
     ]
    }
   ],
   "source": [
    "if __name__ == \"__main__\":\n",
    "    main()"
   ]
  },
  {
   "cell_type": "code",
   "execution_count": null,
   "id": "7ac0e5e0",
   "metadata": {},
   "outputs": [],
   "source": []
  }
 ],
 "metadata": {
  "kernelspec": {
   "display_name": "Python 3 (ipykernel)",
   "language": "python",
   "name": "python3"
  },
  "language_info": {
   "codemirror_mode": {
    "name": "ipython",
    "version": 3
   },
   "file_extension": ".py",
   "mimetype": "text/x-python",
   "name": "python",
   "nbconvert_exporter": "python",
   "pygments_lexer": "ipython3",
   "version": "3.7.10"
  }
 },
 "nbformat": 4,
 "nbformat_minor": 5
}
